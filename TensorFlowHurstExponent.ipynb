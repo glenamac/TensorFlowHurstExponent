{
  "nbformat": 4,
  "nbformat_minor": 0,
  "metadata": {
    "colab": {
      "name": "TensorFlowHurstExponent.ipynb",
      "provenance": [],
      "collapsed_sections": [
        "6m0if2P-8y0N",
        "hxocU3ty3WAQ",
        "tSpLKaZBvYat",
        "TxVgNWWLzoEn",
        "nyHcU2Xx9hzk",
        "Zxm6P8_f6LyL",
        "LuLnKdeN7srL",
        "yNoNw6dH7yak"
      ],
      "authorship_tag": "ABX9TyM2RqOfX19hy0POy7cXHbBz",
      "include_colab_link": true
    },
    "kernelspec": {
      "name": "python3",
      "display_name": "Python 3"
    },
    "language_info": {
      "name": "python"
    }
  },
  "cells": [
    {
      "cell_type": "markdown",
      "metadata": {
        "id": "view-in-github",
        "colab_type": "text"
      },
      "source": [
        "<a href=\"https://colab.research.google.com/github/glenamac/TensorFlowHurstExponent/blob/main/TensorFlowHurstExponent.ipynb\" target=\"_parent\"><img src=\"https://colab.research.google.com/assets/colab-badge.svg\" alt=\"Open In Colab\"/></a>"
      ]
    },
    {
      "cell_type": "markdown",
      "source": [
        "# Training a Neural Network to Recognize Hurst Exponents from Fractal Brownian Motion\n",
        "\n"
      ],
      "metadata": {
        "id": "kGg3w0FYu11Q"
      }
    },
    {
      "cell_type": "markdown",
      "source": [
        "## Imports and Setup"
      ],
      "metadata": {
        "id": "6m0if2P-8y0N"
      }
    },
    {
      "cell_type": "code",
      "execution_count": 17,
      "metadata": {
        "colab": {
          "base_uri": "https://localhost:8080/"
        },
        "id": "VHDbsBAadLvk",
        "outputId": "cb1ed17f-8682-4b98-93cc-94e8659816d0"
      },
      "outputs": [
        {
          "output_type": "stream",
          "name": "stdout",
          "text": [
            "Drive already mounted at /content/drive; to attempt to forcibly remount, call drive.mount(\"/content/drive\", force_remount=True).\n"
          ]
        }
      ],
      "source": [
        "from google.colab import drive\n",
        "drive.mount('/content/drive')"
      ]
    },
    {
      "cell_type": "code",
      "source": [
        "import numpy as np\n",
        "import pandas as pd\n",
        "import matplotlib.pyplot as plt\n",
        "import tensorflow as tf\n"
      ],
      "metadata": {
        "id": "wmkE0iR_dMPH"
      },
      "execution_count": 18,
      "outputs": []
    },
    {
      "cell_type": "markdown",
      "source": [
        "## Load data from Google Drive"
      ],
      "metadata": {
        "id": "hxocU3ty3WAQ"
      }
    },
    {
      "cell_type": "code",
      "source": [
        "input=np.array(pd.read_csv(\"drive/My Drive/input3.dat\",header=None))"
      ],
      "metadata": {
        "id": "p3yje8k0d7Bl"
      },
      "execution_count": null,
      "outputs": []
    },
    {
      "cell_type": "markdown",
      "source": [
        "## Reshape Data"
      ],
      "metadata": {
        "id": "tSpLKaZBvYat"
      }
    },
    {
      "cell_type": "markdown",
      "source": [
        "The raw data loaded are in single-column, plain ascii files. The reason for this is that Python/Pandas is optimized to load many rows of data but only for small numbers of columns. "
      ],
      "metadata": {
        "id": "bYCEd_YUvhiU"
      }
    },
    {
      "cell_type": "markdown",
      "source": [
        "NOTE: The constant 307201 is not a magic number ... it is 640*480, or the number of pixels in the .png graphics being used plus one column for labels. \n",
        "\n",
        "One reason to reshape the data, but perhaps not a great one, is that the labels for each light curve are stored as a single integer at the end of the each 307201 length light curve. The first is at 307201, the second is at 614402, and so on. By reshaping the data into a rectangle of width 307201, the labels all appear in the last column and are trivial to slice thru. Of course, the rectangular data, with the labels removed are once again flattened before passing them onto the internal layers of the model. See below. "
      ],
      "metadata": {
        "id": "0nb13b4s14kJ"
      }
    },
    {
      "cell_type": "code",
      "source": [
        "num_pixels_and_label = 640*480+1"
      ],
      "metadata": {
        "id": "MAQNBEAx2RKs"
      },
      "execution_count": null,
      "outputs": []
    },
    {
      "cell_type": "code",
      "source": [
        "numrows=int(input.shape[0]/num_pixels_and_label)"
      ],
      "metadata": {
        "id": "RS0L1fQoeHV_"
      },
      "execution_count": null,
      "outputs": []
    },
    {
      "cell_type": "markdown",
      "source": [
        "At this point, every row in reshaped_input (numrows) represents a light curve"
      ],
      "metadata": {
        "id": "pORXGYvh4sAD"
      }
    },
    {
      "cell_type": "code",
      "source": [
        "reshaped_input=np.reshape(input,[numrows,num_pixels_and_label])\n"
      ],
      "metadata": {
        "id": "qK7JrRHzsCG2"
      },
      "execution_count": null,
      "outputs": []
    },
    {
      "cell_type": "markdown",
      "source": [
        "### Recast Data as Integer Type"
      ],
      "metadata": {
        "id": "TxVgNWWLzoEn"
      }
    },
    {
      "cell_type": "code",
      "source": [
        "data = np.array(reshaped_input,dtype=\"int\")\n"
      ],
      "metadata": {
        "id": "sbRn9GRafitZ"
      },
      "execution_count": null,
      "outputs": []
    },
    {
      "cell_type": "markdown",
      "source": [
        "## Shuffle The Data"
      ],
      "metadata": {
        "id": "nyHcU2Xx9hzk"
      }
    },
    {
      "cell_type": "markdown",
      "source": [
        "We want to surprise the model so as not to see many of the same types of light curves grouped together. "
      ],
      "metadata": {
        "id": "CeQN2vpH9GCw"
      }
    },
    {
      "cell_type": "code",
      "source": [
        "m, n = data.shape\n",
        "np.random.shuffle(data) # shuffle before splitting into dev and training sets\n",
        "data.shape"
      ],
      "metadata": {
        "id": "Nw3KQQRYf2lo"
      },
      "execution_count": null,
      "outputs": []
    },
    {
      "cell_type": "code",
      "source": [
        ""
      ],
      "metadata": {
        "id": "wqUWlUrAzu-o"
      },
      "execution_count": null,
      "outputs": []
    },
    {
      "cell_type": "markdown",
      "source": [
        "Slice out the last column where the labels are stord and add them to *train_labels*."
      ],
      "metadata": {
        "id": "Am2f2RmozlmU"
      }
    },
    {
      "cell_type": "code",
      "source": [
        "train_labels=data[:,-1]\n",
        "#train_labels"
      ],
      "metadata": {
        "id": "m_WwDZ9vf-1Y"
      },
      "execution_count": null,
      "outputs": []
    },
    {
      "cell_type": "markdown",
      "source": [
        "Add the remainder of the data (the actual pixel data) to *train_images* and confirm the shape. "
      ],
      "metadata": {
        "id": "jVQRTcQ7z4Oo"
      }
    },
    {
      "cell_type": "code",
      "source": [
        "train_images=np.reshape(data[:,0:n-1],[numrows,480,640])\n",
        "(j,k,l)=train_images.shape\n",
        "j,k,l"
      ],
      "metadata": {
        "id": "LVF8Q8BGgG2q"
      },
      "execution_count": null,
      "outputs": []
    },
    {
      "cell_type": "markdown",
      "source": [
        "## Print an example light curve as a quick sanity check."
      ],
      "metadata": {
        "id": "Zxm6P8_f6LyL"
      }
    },
    {
      "cell_type": "code",
      "source": [
        "Index=0\n",
        "plt.imshow(train_images[Index,:,:])\n",
        "print(\"Hurst exponent = %0.2f\\n\" % (data[Index,-1]/10.))"
      ],
      "metadata": {
        "id": "QyL8k7bDgPwF"
      },
      "execution_count": null,
      "outputs": []
    },
    {
      "cell_type": "markdown",
      "source": [
        "Clean up object in case memory starts getting scarce."
      ],
      "metadata": {
        "id": "z4XyNWFu7fcw"
      }
    },
    {
      "cell_type": "code",
      "source": [
        "#del(input)\n",
        "#del(dev)\n",
        "#del(reshaped_input)\n",
        "#del(data)"
      ],
      "metadata": {
        "id": "dHDYfow9hVgk"
      },
      "execution_count": null,
      "outputs": []
    },
    {
      "cell_type": "markdown",
      "source": [
        "## Create and compile model\n",
        "\n"
      ],
      "metadata": {
        "id": "LuLnKdeN7srL"
      }
    },
    {
      "cell_type": "code",
      "source": [
        "model = tf.keras.Sequential([\n",
        "                             tf.keras.layers.Flatten(input_shape=(480, 640)),\n",
        "                             tf.keras.layers.Dense(128,activation=\"relu\"),\n",
        "                             tf.keras.layers.Dense(10)\n",
        "\n",
        "])"
      ],
      "metadata": {
        "id": "srWSxEZ6gjAX"
      },
      "execution_count": null,
      "outputs": []
    },
    {
      "cell_type": "code",
      "source": [
        "model.compile(optimizer=\"adam\",\n",
        "              loss=tf.keras.losses.SparseCategoricalCrossentropy(from_logits=True),\n",
        "              metrics=[\"accuracy\"]\n",
        "              )"
      ],
      "metadata": {
        "id": "t1V3vKoTgliO"
      },
      "execution_count": null,
      "outputs": []
    },
    {
      "cell_type": "markdown",
      "source": [
        "## Train the model\n",
        "\n"
      ],
      "metadata": {
        "id": "yNoNw6dH7yak"
      }
    },
    {
      "cell_type": "code",
      "source": [
        "model.fit(train_images,train_labels,epochs=10)"
      ],
      "metadata": {
        "id": "Z8ZKqkSNgoLL"
      },
      "execution_count": null,
      "outputs": []
    },
    {
      "cell_type": "markdown",
      "source": [
        "Show user model summary; num. of layers, shape, num. of parameters."
      ],
      "metadata": {
        "id": "1USYmaXN7RUW"
      }
    },
    {
      "cell_type": "code",
      "source": [
        "model.summary()\n"
      ],
      "metadata": {
        "id": "S8_esPP8xwzj"
      },
      "execution_count": null,
      "outputs": []
    }
  ]
}