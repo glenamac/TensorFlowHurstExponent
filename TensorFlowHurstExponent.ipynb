{
  "nbformat": 4,
  "nbformat_minor": 0,
  "metadata": {
    "colab": {
      "name": "TensorFlowHurstExponent.ipynb",
      "provenance": [],
      "collapsed_sections": [
        "6m0if2P-8y0N",
        "hxocU3ty3WAQ",
        "tSpLKaZBvYat",
        "TxVgNWWLzoEn",
        "nyHcU2Xx9hzk",
        "Zxm6P8_f6LyL",
        "LuLnKdeN7srL",
        "yNoNw6dH7yak"
      ],
      "authorship_tag": "ABX9TyN49cGU2saoR8MgjDLN5HsI",
      "include_colab_link": true
    },
    "kernelspec": {
      "name": "python3",
      "display_name": "Python 3"
    },
    "language_info": {
      "name": "python"
    }
  },
  "cells": [
    {
      "cell_type": "markdown",
      "metadata": {
        "id": "view-in-github",
        "colab_type": "text"
      },
      "source": [
        "<a href=\"https://colab.research.google.com/github/glenamac/TensorFlowHurstExponent/blob/main/TensorFlowHurstExponent.ipynb\" target=\"_parent\"><img src=\"https://colab.research.google.com/assets/colab-badge.svg\" alt=\"Open In Colab\"/></a>"
      ]
    },
    {
      "cell_type": "markdown",
      "source": [
        "# Training a Neural Network to Recognize Hurst Exponents from Fractal Brownian Motion\n",
        "\n"
      ],
      "metadata": {
        "id": "kGg3w0FYu11Q"
      }
    },
    {
      "cell_type": "markdown",
      "source": [
        "## Imports and Setup"
      ],
      "metadata": {
        "id": "6m0if2P-8y0N"
      }
    },
    {
      "cell_type": "code",
      "execution_count": 1,
      "metadata": {
        "colab": {
          "base_uri": "https://localhost:8080/"
        },
        "id": "VHDbsBAadLvk",
        "outputId": "894c5ee1-b24f-4e41-af3c-f30b1d3c34c8"
      },
      "outputs": [
        {
          "output_type": "stream",
          "name": "stdout",
          "text": [
            "Drive already mounted at /content/drive; to attempt to forcibly remount, call drive.mount(\"/content/drive\", force_remount=True).\n"
          ]
        }
      ],
      "source": [
        "from google.colab import drive\n",
        "drive.mount('/content/drive')"
      ]
    },
    {
      "cell_type": "code",
      "source": [
        "import numpy as np\n",
        "import pandas as pd\n",
        "import matplotlib.pyplot as plt\n",
        "import tensorflow as tf\n"
      ],
      "metadata": {
        "id": "wmkE0iR_dMPH"
      },
      "execution_count": 2,
      "outputs": []
    },
    {
      "cell_type": "markdown",
      "source": [
        "## Load data from Google Drive"
      ],
      "metadata": {
        "id": "hxocU3ty3WAQ"
      }
    },
    {
      "cell_type": "code",
      "source": [
        "input=np.array(pd.read_csv(\"drive/My Drive/input3.dat\",header=None))"
      ],
      "metadata": {
        "id": "p3yje8k0d7Bl"
      },
      "execution_count": 3,
      "outputs": []
    },
    {
      "cell_type": "markdown",
      "source": [
        "## Reshape Data"
      ],
      "metadata": {
        "id": "tSpLKaZBvYat"
      }
    },
    {
      "cell_type": "markdown",
      "source": [
        "Fractal Brownian motion light curves are generated using [MATLAB](https://www.mathworks.com/help/wavelet/ref/wfbm.html). Portable Network Graphic (.png) images are created and saved in 640x480 resolution using [Gnuplot](http://www.gnuplot.info/)and then converted into grayscale raw datafiles using [Numpy](https://numpy.org) and [OpenCV](https://opencv.org/). The raw data are in single-column, plain ascii files. The reason for this formt is that Python/Pandas is optimized to load many rows of data but only for small numbers of columns. "
      ],
      "metadata": {
        "id": "bYCEd_YUvhiU"
      }
    },
    {
      "cell_type": "markdown",
      "source": [
        "NOTE: The constant 307201 is not a magic number ... it is 640*480, or the number of pixels in the .png graphics being used plus one column for labels. \n",
        "\n",
        "One reason to reshape the data, but perhaps not a great one, is that the labels for each light curve are stored as a single integer at the end of the each 307201 length light curve. The first is at 307201, the second is at 614402, and so on. By reshaping the data into a rectangle of width 307201, the labels all appear in the last column and are trivial to slice thru. Of course, the rectangular data, with the labels removed are once again flattened before passing them onto the internal layers of the model. See below. "
      ],
      "metadata": {
        "id": "0nb13b4s14kJ"
      }
    },
    {
      "cell_type": "code",
      "source": [
        "num_pixels_and_label = 640*480+1"
      ],
      "metadata": {
        "id": "MAQNBEAx2RKs"
      },
      "execution_count": 4,
      "outputs": []
    },
    {
      "cell_type": "code",
      "source": [
        "numrows=int(input.shape[0]/num_pixels_and_label)"
      ],
      "metadata": {
        "id": "RS0L1fQoeHV_"
      },
      "execution_count": 5,
      "outputs": []
    },
    {
      "cell_type": "markdown",
      "source": [
        "At this point, every row in reshaped_input (numrows) represents a light curve"
      ],
      "metadata": {
        "id": "pORXGYvh4sAD"
      }
    },
    {
      "cell_type": "code",
      "source": [
        "reshaped_input=np.reshape(input,[numrows,num_pixels_and_label])\n"
      ],
      "metadata": {
        "id": "qK7JrRHzsCG2"
      },
      "execution_count": 6,
      "outputs": []
    },
    {
      "cell_type": "markdown",
      "source": [
        "### Recast Data as Integer Type"
      ],
      "metadata": {
        "id": "TxVgNWWLzoEn"
      }
    },
    {
      "cell_type": "code",
      "source": [
        "data = np.array(reshaped_input,dtype=\"int\")\n"
      ],
      "metadata": {
        "id": "sbRn9GRafitZ"
      },
      "execution_count": 7,
      "outputs": []
    },
    {
      "cell_type": "markdown",
      "source": [
        "## Shuffle The Data"
      ],
      "metadata": {
        "id": "nyHcU2Xx9hzk"
      }
    },
    {
      "cell_type": "markdown",
      "source": [
        "We want to surprise the model so as not to see many of the same types of light curves grouped together. "
      ],
      "metadata": {
        "id": "CeQN2vpH9GCw"
      }
    },
    {
      "cell_type": "code",
      "source": [
        "m, n = data.shape\n",
        "np.random.shuffle(data) # shuffle before splitting into dev and training sets\n",
        "data.shape"
      ],
      "metadata": {
        "colab": {
          "base_uri": "https://localhost:8080/"
        },
        "id": "Nw3KQQRYf2lo",
        "outputId": "31775796-b69a-43e0-8e4d-f73b3558e25e"
      },
      "execution_count": 8,
      "outputs": [
        {
          "output_type": "execute_result",
          "data": {
            "text/plain": [
              "(900, 307201)"
            ]
          },
          "metadata": {},
          "execution_count": 8
        }
      ]
    },
    {
      "cell_type": "markdown",
      "source": [
        "Slice out the last column where the labels are stored and add them to \n",
        "\n",
        "---\n",
        "\n",
        "*train_labels*."
      ],
      "metadata": {
        "id": "Am2f2RmozlmU"
      }
    },
    {
      "cell_type": "code",
      "source": [
        "train_labels=data[:,-1]\n",
        "#train_labels"
      ],
      "metadata": {
        "id": "m_WwDZ9vf-1Y"
      },
      "execution_count": 9,
      "outputs": []
    },
    {
      "cell_type": "markdown",
      "source": [
        "Add the remainder of the data (the actual pixel data) to *train_images* and confirm the shape. "
      ],
      "metadata": {
        "id": "jVQRTcQ7z4Oo"
      }
    },
    {
      "cell_type": "code",
      "source": [
        "train_images=np.reshape(data[:,0:n-1],[numrows,480,640])\n",
        "(j,k,l)=train_images.shape\n",
        "j,k,l"
      ],
      "metadata": {
        "colab": {
          "base_uri": "https://localhost:8080/"
        },
        "id": "LVF8Q8BGgG2q",
        "outputId": "437f2830-94bc-46f7-cc90-f69cc3ea657c"
      },
      "execution_count": 10,
      "outputs": [
        {
          "output_type": "execute_result",
          "data": {
            "text/plain": [
              "(900, 480, 640)"
            ]
          },
          "metadata": {},
          "execution_count": 10
        }
      ]
    },
    {
      "cell_type": "markdown",
      "source": [
        "## Print an example light curve as a quick sanity check."
      ],
      "metadata": {
        "id": "Zxm6P8_f6LyL"
      }
    },
    {
      "cell_type": "code",
      "source": [
        "Index=0\n",
        "plt.imshow(train_images[Index,:,:])\n",
        "print(\"Hurst exponent = %0.2f\\n\" % (data[Index,-1]/10.))"
      ],
      "metadata": {
        "colab": {
          "base_uri": "https://localhost:8080/",
          "height": 305
        },
        "id": "QyL8k7bDgPwF",
        "outputId": "271c9f22-6433-4e4b-c946-27d8a697651d"
      },
      "execution_count": 11,
      "outputs": [
        {
          "output_type": "stream",
          "name": "stdout",
          "text": [
            "Hurst exponent = 0.60\n",
            "\n"
          ]
        },
        {
          "output_type": "display_data",
          "data": {
            "text/plain": [
              "<Figure size 432x288 with 1 Axes>"
            ],
            "image/png": "[encoded data removed]"
          },
          "metadata": {
            "needs_background": "light"
          }
        }
      ]
    },
    {
      "cell_type": "markdown",
      "source": [
        "Clean up object in case memory starts getting scarce."
      ],
      "metadata": {
        "id": "z4XyNWFu7fcw"
      }
    },
    {
      "cell_type": "code",
      "source": [
        "#del(input)\n",
        "#del(dev)\n",
        "#del(reshaped_input)\n",
        "#del(data)"
      ],
      "metadata": {
        "id": "dHDYfow9hVgk"
      },
      "execution_count": 12,
      "outputs": []
    },
    {
      "cell_type": "markdown",
      "source": [
        "## Create and compile model\n",
        "\n"
      ],
      "metadata": {
        "id": "LuLnKdeN7srL"
      }
    },
    {
      "cell_type": "code",
      "source": [
        "model = tf.keras.Sequential([\n",
        "                             tf.keras.layers.Flatten(input_shape=(480, 640)),\n",
        "                             tf.keras.layers.Dense(128,activation=\"relu\"),\n",
        "                             tf.keras.layers.Dense(10)\n",
        "\n",
        "])"
      ],
      "metadata": {
        "id": "srWSxEZ6gjAX"
      },
      "execution_count": 13,
      "outputs": []
    },
    {
      "cell_type": "code",
      "source": [
        "model.compile(optimizer=\"adam\",\n",
        "              loss=tf.keras.losses.SparseCategoricalCrossentropy(from_logits=True),\n",
        "              metrics=[\"accuracy\"]\n",
        "              )"
      ],
      "metadata": {
        "id": "t1V3vKoTgliO"
      },
      "execution_count": 14,
      "outputs": []
    },
    {
      "cell_type": "markdown",
      "source": [
        "## Train the model\n",
        "\n"
      ],
      "metadata": {
        "id": "yNoNw6dH7yak"
      }
    },
    {
      "cell_type": "markdown",
      "source": [
        "### Generally seeing 100% accuracy in fewer than 10 epochs."
      ],
      "metadata": {
        "id": "ZI_0sw_1E3HW"
      }
    },
    {
      "cell_type": "code",
      "source": [
        "model.fit(train_images,train_labels,epochs=10)"
      ],
      "metadata": {
        "colab": {
          "base_uri": "https://localhost:8080/"
        },
        "id": "Z8ZKqkSNgoLL",
        "outputId": "5e72c8b6-f19a-4824-c0bf-7a4bbbb52891"
      },
      "execution_count": 15,
      "outputs": [
        {
          "output_type": "stream",
          "name": "stdout",
          "text": [
            "Epoch 1/10\n",
            "29/29 [==============================] - 10s 312ms/step - loss: 6.8483 - accuracy: 0.1856\n",
            "Epoch 2/10\n",
            "29/29 [==============================] - 9s 314ms/step - loss: 0.9736 - accuracy: 0.6622\n",
            "Epoch 3/10\n",
            "29/29 [==============================] - 9s 294ms/step - loss: 0.4012 - accuracy: 0.8467\n",
            "Epoch 4/10\n",
            "29/29 [==============================] - 9s 303ms/step - loss: 0.1606 - accuracy: 0.9478\n",
            "Epoch 5/10\n",
            "29/29 [==============================] - 9s 299ms/step - loss: 0.0548 - accuracy: 0.9867\n",
            "Epoch 6/10\n",
            "29/29 [==============================] - 9s 297ms/step - loss: 0.0254 - accuracy: 0.9978\n",
            "Epoch 7/10\n",
            "29/29 [==============================] - 9s 307ms/step - loss: 0.0147 - accuracy: 0.9989\n",
            "Epoch 8/10\n",
            "29/29 [==============================] - 9s 320ms/step - loss: 0.0129 - accuracy: 0.9978\n",
            "Epoch 9/10\n",
            "29/29 [==============================] - 9s 300ms/step - loss: 0.0068 - accuracy: 1.0000\n",
            "Epoch 10/10\n",
            "29/29 [==============================] - 9s 293ms/step - loss: 0.0049 - accuracy: 1.0000\n"
          ]
        },
        {
          "output_type": "execute_result",
          "data": {
            "text/plain": [
              "<keras.callbacks.History at 0x7fa607a9ea10>"
            ]
          },
          "metadata": {},
          "execution_count": 15
        }
      ]
    },
    {
      "cell_type": "markdown",
      "source": [
        "Show user model summary; num. of layers, shape, num. of parameters."
      ],
      "metadata": {
        "id": "1USYmaXN7RUW"
      }
    },
    {
      "cell_type": "code",
      "source": [
        "model.summary()\n"
      ],
      "metadata": {
        "colab": {
          "base_uri": "https://localhost:8080/"
        },
        "id": "S8_esPP8xwzj",
        "outputId": "8422d2b8-5943-4766-eaeb-fab47b38f5ad"
      },
      "execution_count": 16,
      "outputs": [
        {
          "output_type": "stream",
          "name": "stdout",
          "text": [
            "Model: \"sequential\"\n",
            "_________________________________________________________________\n",
            " Layer (type)                Output Shape              Param #   \n",
            "=================================================================\n",
            " flatten (Flatten)           (None, 307200)            0         \n",
            "                                                                 \n",
            " dense (Dense)               (None, 128)               39321728  \n",
            "                                                                 \n",
            " dense_1 (Dense)             (None, 10)                1290      \n",
            "                                                                 \n",
            "=================================================================\n",
            "Total params: 39,323,018\n",
            "Trainable params: 39,323,018\n",
            "Non-trainable params: 0\n",
            "_________________________________________________________________\n"
          ]
        }
      ]
    }
  ]
}